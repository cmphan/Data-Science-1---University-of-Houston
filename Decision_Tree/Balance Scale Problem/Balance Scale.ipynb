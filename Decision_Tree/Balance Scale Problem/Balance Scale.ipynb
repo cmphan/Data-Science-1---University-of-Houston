{
 "cells": [
  {
   "cell_type": "code",
   "execution_count": 5,
   "metadata": {},
   "outputs": [],
   "source": [
    "#Import the required packages\n",
    "import numpy as np\n",
    "import pandas as pd\n",
    "from sklearn.metrics import confusion_matrix\n",
    "from sklearn.model_selection import train_test_split\n",
    "from sklearn.tree import DecisionTreeClassifier\n",
    "from sklearn.metrics import accuracy_score\n",
    "from sklearn.metrics import classification_report\n",
    "from sklearn.naive_bayes import GaussianNB\n",
    "%matplotlib inline"
   ]
  },
  {
   "cell_type": "code",
   "execution_count": 6,
   "metadata": {},
   "outputs": [],
   "source": [
    "#Function importing Dataset\n",
    "def importdata():\n",
    "    balance_data = pd.read_csv('balance-scale.csv', sep=',',header=None)\n",
    "    #Printing dataset shape: \n",
    "    print(\"Dataset Length: \", len(balance_data))\n",
    "    print(\"Dataset Shape: \", balance_data.shape)\n",
    "    #Print the dataset observations\n",
    "    print(\"Dataset: \", balance_data.head())\n",
    "    #implement data info, missing value check... \n",
    "    return balance_data "
   ]
  },
  {
   "cell_type": "code",
   "execution_count": 7,
   "metadata": {},
   "outputs": [],
   "source": [
    "#Function to split the dataset \n",
    "def splitdataset(balance_data):\n",
    "    #Seperate the target variable\n",
    "    X = balance_data.values[:, 1: 5]\n",
    "    y = balance_data.values[:, 0]\n",
    "    #Spliting dataset into train and test\n",
    "    X_train, X_test, y_train, y_test = train_test_split(X,y,test_size = 0.3, random_state=100)\n",
    "    return X, y, X_train, X_test, y_train, y_test"
   ]
  },
  {
   "cell_type": "code",
   "execution_count": 8,
   "metadata": {},
   "outputs": [],
   "source": [
    "#Function to perform training data with giniIndex\n",
    "def train_using_gini(X_train, X_test, y_train):\n",
    "    #Creating the classifier object\n",
    "    clf_gini = DecisionTreeClassifier(criterion=\"gini\",random_state=100,\n",
    "                                     max_depth=3, min_samples_leaf=5)\n",
    "    #Performing training\n",
    "    clf_gini.fit(X_train, y_train)\n",
    "    return clf_gini"
   ]
  },
  {
   "cell_type": "code",
   "execution_count": 9,
   "metadata": {},
   "outputs": [],
   "source": [
    "#Function to make predictions\n",
    "def prediction(X_test, clf_object):\n",
    "    #Prediction on test with giniIndex\n",
    "    y_pred = clf_object.predict(X_test)\n",
    "    print(\"Predicted values: \")\n",
    "    print(y_pred)\n",
    "    return y_pred\n"
   ]
  },
  {
   "cell_type": "code",
   "execution_count": 10,
   "metadata": {},
   "outputs": [],
   "source": [
    "#Function to calculate accuracy \n",
    "def cal_accuracy(y_test, y_pred):\n",
    "    print(\"Confusion Matrix: \",confusion_matrix(y_test,y_pred))\n",
    "    print(\"Accuracy: \",accuracy_score(y_test,y_pred)*100)\n",
    "    print(\"Report: \",classification_report(y_test,y_pred))\n",
    "          "
   ]
  },
  {
   "cell_type": "code",
   "execution_count": 11,
   "metadata": {},
   "outputs": [],
   "source": [
    "#Function to perform training with entropy\n",
    "def train_using_entropy(X_train, X_test, y_train):\n",
    "    #Decision tree with entropy\n",
    "    clf_entropy = DecisionTreeClassifier(criterion=\"entropy\",random_state=100,\n",
    "                                     max_depth=3, min_samples_leaf=5)\n",
    "    #Performing training\n",
    "    clf_entropy.fit(X_train, y_train)\n",
    "    return clf_entropy\n"
   ]
  },
  {
   "cell_type": "code",
   "execution_count": 12,
   "metadata": {},
   "outputs": [],
   "source": [
    "# Function to perform Naive Bayes Classifier\n",
    "def train_using_naive(X_train, X_test, y_train):\n",
    "    classifier = GaussianNB()\n",
    "    classifier.fit(X_train, y_train)\n",
    "# Predicting the Test set results\n",
    "    return classifier\n"
   ]
  },
  {
   "cell_type": "code",
   "execution_count": 13,
   "metadata": {},
   "outputs": [],
   "source": [
    "#Driver code\n",
    "def main():\n",
    "    #Building Phase\n",
    "    data = importdata()\n",
    "    data.info()\n",
    "    X, y, X_train, X_test, y_train, y_test = splitdataset(data)\n",
    "    #Train using gini\n",
    "    clf_gini = train_using_gini(X_train,X_test,y_train)\n",
    "    #Train using entropy\n",
    "    clf_entropy = train_using_gini(X_train,X_test,y_train)\n",
    "    #Operational Phase\n",
    "    #Prediction with Gini\n",
    "    y_pred_gini = prediction(X_test,clf_gini)\n",
    "    print(\"Results Using Gini Index: \")\n",
    "    cal_accuracy(y_test,y_pred_gini)\n",
    "    df_confusion = pd.crosstab(y_test, y_pred_gini)\n",
    "    plot_confusion_matrix(df_confusion)\n",
    "    #Prediction with Entropy\n",
    "    y_pred_entropy = prediction(X_test,clf_entropy)\n",
    "    print(\"Results Using Gini Entropy: \")\n",
    "    cal_accuracy(y_test,y_pred_gini)\n",
    "    #Training with Naive Bayes Classifier\n",
    "    clf_naive = train_using_naive(X_train, X_test, y_train)\n",
    "    #Prediction with Naive Bayes\n",
    "    y_pred_naive = prediction(X_test,clf_naive)\n",
    "    print(\"Results Using Naive Bayes: \")\n",
    "    cal_accuracy(y_test,y_pred_naive)"
   ]
  },
  {
   "cell_type": "code",
   "execution_count": 14,
   "metadata": {},
   "outputs": [
    {
     "name": "stdout",
     "output_type": "stream",
     "text": [
      "Dataset Length:  626\n",
      "Dataset Shape:  (626, 5)\n",
      "Dataset:     0  1  2  3  4\n",
      "0  0  1  2  3  4\n",
      "1  B  1  1  1  1\n",
      "2  R  1  1  1  2\n",
      "3  R  1  1  1  3\n",
      "4  R  1  1  1  4\n",
      "Predicted values: \n",
      "['R' 'R' 'L' 'R' 'R' 'R' 'R' 'L' 'L' 'L' 'R' 'L' 'L' 'L' 'R' 'L' 'R' 'L'\n",
      " 'R' 'R' 'L' 'R' 'L' 'L' 'R' 'L' 'R' 'R' 'L' 'L' 'L' 'R' 'R' 'L' 'L' 'R'\n",
      " 'R' 'R' 'L' 'R' 'L' 'R' 'R' 'R' 'R' 'R' 'R' 'R' 'L' 'L' 'R' 'R' 'R' 'R'\n",
      " 'L' 'L' 'R' 'R' 'R' 'R' 'R' 'L' 'L' 'R' 'L' 'L' 'L' 'R' 'R' 'R' 'R' 'L'\n",
      " 'R' 'L' 'R' 'R' 'R' 'R' 'L' 'L' 'R' 'L' 'R' 'L' 'L' 'R' 'R' 'R' 'R' 'R'\n",
      " 'R' 'R' 'L' 'L' 'L' 'R' 'R' 'L' 'R' 'L' 'L' 'L' 'R' 'R' 'L' 'R' 'R' 'L'\n",
      " 'R' 'R' 'L' 'L' 'R' 'R' 'L' 'R' 'L' 'R' 'R' 'R' 'L' 'R' 'R' 'L' 'R' 'L'\n",
      " 'R' 'L' 'R' 'L' 'L' 'R' 'L' 'L' 'L' 'L' 'R' 'L' 'R' 'R' 'L' 'R' 'R' 'R'\n",
      " 'R' 'R' 'R' 'L' 'L' 'R' 'R' 'R' 'L' 'R' 'R' 'R' 'L' 'L' 'R' 'R' 'L' 'L'\n",
      " 'R' 'L' 'R' 'R' 'R' 'R' 'L' 'L' 'R' 'L' 'L' 'R' 'R' 'L' 'L' 'R' 'R' 'R'\n",
      " 'R' 'R' 'R' 'L' 'L' 'L' 'R' 'R']\n",
      "Results Using Gini Index: \n",
      "Confusion Matrix:  [[ 0 10  7]\n",
      " [ 0 53 26]\n",
      " [ 0 15 77]]\n",
      "Accuracy:  69.14893617021278\n",
      "Report:                precision    recall  f1-score   support\n",
      "\n",
      "           B       0.00      0.00      0.00        17\n",
      "           L       0.68      0.67      0.68        79\n",
      "           R       0.70      0.84      0.76        92\n",
      "\n",
      "   micro avg       0.69      0.69      0.69       188\n",
      "   macro avg       0.46      0.50      0.48       188\n",
      "weighted avg       0.63      0.69      0.66       188\n",
      "\n",
      "Predicted values: \n",
      "['R' 'R' 'L' 'R' 'R' 'R' 'R' 'L' 'L' 'L' 'R' 'L' 'L' 'L' 'R' 'L' 'R' 'L'\n",
      " 'R' 'R' 'L' 'R' 'L' 'L' 'R' 'L' 'R' 'R' 'L' 'L' 'L' 'R' 'R' 'L' 'L' 'R'\n",
      " 'R' 'R' 'L' 'R' 'L' 'R' 'R' 'R' 'R' 'R' 'R' 'R' 'L' 'L' 'R' 'R' 'R' 'R'\n",
      " 'L' 'L' 'R' 'R' 'R' 'R' 'R' 'L' 'L' 'R' 'L' 'L' 'L' 'R' 'R' 'R' 'R' 'L'\n",
      " 'R' 'L' 'R' 'R' 'R' 'R' 'L' 'L' 'R' 'L' 'R' 'L' 'L' 'R' 'R' 'R' 'R' 'R'\n",
      " 'R' 'R' 'L' 'L' 'L' 'R' 'R' 'L' 'R' 'L' 'L' 'L' 'R' 'R' 'L' 'R' 'R' 'L'\n",
      " 'R' 'R' 'L' 'L' 'R' 'R' 'L' 'R' 'L' 'R' 'R' 'R' 'L' 'R' 'R' 'L' 'R' 'L'\n",
      " 'R' 'L' 'R' 'L' 'L' 'R' 'L' 'L' 'L' 'L' 'R' 'L' 'R' 'R' 'L' 'R' 'R' 'R'\n",
      " 'R' 'R' 'R' 'L' 'L' 'R' 'R' 'R' 'L' 'R' 'R' 'R' 'L' 'L' 'R' 'R' 'L' 'L'\n",
      " 'R' 'L' 'R' 'R' 'R' 'R' 'L' 'L' 'R' 'L' 'L' 'R' 'R' 'L' 'L' 'R' 'R' 'R'\n",
      " 'R' 'R' 'R' 'L' 'L' 'L' 'R' 'R']\n",
      "Results Using Gini Entropy: \n",
      "Confusion Matrix:  [[ 0 10  7]\n",
      " [ 0 53 26]\n",
      " [ 0 15 77]]\n",
      "Accuracy:  69.14893617021278\n",
      "Report:                precision    recall  f1-score   support\n",
      "\n",
      "           B       0.00      0.00      0.00        17\n",
      "           L       0.68      0.67      0.68        79\n",
      "           R       0.70      0.84      0.76        92\n",
      "\n",
      "   micro avg       0.69      0.69      0.69       188\n",
      "   macro avg       0.46      0.50      0.48       188\n",
      "weighted avg       0.63      0.69      0.66       188\n",
      "\n",
      "Predicted values: \n",
      "['L' 'R' 'R' 'R' 'R' 'R' 'R' 'L' 'L' 'L' 'R' 'R' 'L' 'L' 'R' 'R' 'R' 'L'\n",
      " 'L' 'R' 'L' 'L' 'L' 'L' 'R' 'L' 'R' 'L' 'R' 'L' 'L' 'L' 'R' 'L' 'L' 'L'\n",
      " 'R' 'L' 'R' 'R' 'L' 'R' 'R' 'R' 'R' 'R' 'L' 'R' 'L' 'L' 'L' 'R' 'L' 'L'\n",
      " 'R' 'L' 'R' 'R' 'R' 'R' 'L' 'L' 'L' 'R' 'L' 'L' 'R' 'R' 'R' 'R' 'R' 'L'\n",
      " 'R' 'L' 'R' 'L' 'L' 'R' 'R' 'L' 'R' 'L' 'R' 'L' 'L' 'L' 'R' 'L' 'R' 'L'\n",
      " 'R' 'R' 'L' 'L' 'L' 'R' 'R' 'L' 'R' 'L' 'L' 'L' 'L' 'R' 'L' 'R' 'R' 'R'\n",
      " 'L' 'R' 'L' 'L' 'R' 'R' 'L' 'R' 'L' 'L' 'R' 'R' 'L' 'R' 'R' 'R' 'R' 'L'\n",
      " 'L' 'L' 'L' 'R' 'L' 'R' 'R' 'L' 'R' 'L' 'L' 'L' 'L' 'R' 'L' 'L' 'L' 'R'\n",
      " 'L' 'R' 'R' 'L' 'R' 'R' 'L' 'L' 'L' 'R' 'R' 'R' 'L' 'R' 'R' 'L' 'L' 'R'\n",
      " 'R' 'L' 'R' 'R' 'L' 'R' 'R' 'R' 'L' 'L' 'L' 'R' 'R' 'L' 'L' 'L' 'R' 'R'\n",
      " 'R' 'R' 'R' 'L' 'L' 'L' 'R' 'R']\n",
      "Results Using Naive Bayes: \n",
      "Confusion Matrix:  [[ 0 13  4]\n",
      " [ 0 79  0]\n",
      " [ 0  1 91]]\n",
      "Accuracy:  90.42553191489363\n",
      "Report:                precision    recall  f1-score   support\n",
      "\n",
      "           B       0.00      0.00      0.00        17\n",
      "           L       0.85      1.00      0.92        79\n",
      "           R       0.96      0.99      0.97        92\n",
      "\n",
      "   micro avg       0.90      0.90      0.90       188\n",
      "   macro avg       0.60      0.66      0.63       188\n",
      "weighted avg       0.83      0.90      0.86       188\n",
      "\n"
     ]
    },
    {
     "name": "stderr",
     "output_type": "stream",
     "text": [
      "/anaconda3/lib/python3.7/site-packages/sklearn/metrics/classification.py:1143: UndefinedMetricWarning: Precision and F-score are ill-defined and being set to 0.0 in labels with no predicted samples.\n",
      "  'precision', 'predicted', average, warn_for)\n",
      "/anaconda3/lib/python3.7/site-packages/sklearn/metrics/classification.py:1143: UndefinedMetricWarning: Precision and F-score are ill-defined and being set to 0.0 in labels with no predicted samples.\n",
      "  'precision', 'predicted', average, warn_for)\n",
      "/anaconda3/lib/python3.7/site-packages/sklearn/metrics/classification.py:1143: UndefinedMetricWarning: Precision and F-score are ill-defined and being set to 0.0 in labels with no predicted samples.\n",
      "  'precision', 'predicted', average, warn_for)\n"
     ]
    }
   ],
   "source": [
    "#Calling main function\n",
    "if __name__== \"__main__\":\n",
    "    main()"
   ]
  },
  {
   "cell_type": "code",
   "execution_count": null,
   "metadata": {},
   "outputs": [],
   "source": []
  }
 ],
 "metadata": {
  "kernelspec": {
   "display_name": "Python 3",
   "language": "python",
   "name": "python3"
  },
  "language_info": {
   "codemirror_mode": {
    "name": "ipython",
    "version": 3
   },
   "file_extension": ".py",
   "mimetype": "text/x-python",
   "name": "python",
   "nbconvert_exporter": "python",
   "pygments_lexer": "ipython3",
   "version": "3.7.3"
  }
 },
 "nbformat": 4,
 "nbformat_minor": 2
}
