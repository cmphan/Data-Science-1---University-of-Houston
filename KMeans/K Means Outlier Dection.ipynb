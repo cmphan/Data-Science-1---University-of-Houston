{
 "cells": [
  {
   "cell_type": "code",
   "execution_count": 1,
   "metadata": {},
   "outputs": [
    {
     "name": "stdout",
     "output_type": "stream",
     "text": [
      "Populating the interactive namespace from numpy and matplotlib\n"
     ]
    }
   ],
   "source": [
    "%pylab inline\n",
    "import sklearn\n"
   ]
  },
  {
   "cell_type": "code",
   "execution_count": 2,
   "metadata": {},
   "outputs": [],
   "source": [
    "# generate data\n",
    "from sklearn.datasets.samples_generator import make_blobs\n",
    "data = make_blobs(n_samples=100, n_features=2, centers=3,cluster_std=2.5)[0]"
   ]
  },
  {
   "cell_type": "code",
   "execution_count": 3,
   "metadata": {},
   "outputs": [],
   "source": [
    "# compute centers\n",
    "from sklearn.cluster import KMeans\n",
    "km = KMeans(n_clusters=3)\n",
    "km.fit(data)\n",
    "[center_1, center_2, center_3] = km.cluster_centers_"
   ]
  },
  {
   "cell_type": "code",
   "execution_count": 4,
   "metadata": {},
   "outputs": [],
   "source": [
    "# compute distance from each data point to closest center:\n",
    "distance = [(min(distances),i) for i,distances in enumerate(km.transform(data))]"
   ]
  },
  {
   "cell_type": "code",
   "execution_count": 9,
   "metadata": {},
   "outputs": [
    {
     "data": {
      "text/plain": [
       "[(3.3168748569064475, 0),\n",
       " (2.646188793605337, 1),\n",
       " (3.2176209997019196, 2),\n",
       " (3.1765706170509147, 3),\n",
       " (1.9055788598036432, 4),\n",
       " (2.862135445144844, 5),\n",
       " (2.144080268068899, 6),\n",
       " (2.3358976929479986, 7),\n",
       " (2.1946818601975777, 8),\n",
       " (1.234954917200617, 9),\n",
       " (4.441324826433396, 10),\n",
       " (1.827176650953981, 11),\n",
       " (3.1486430101329606, 12),\n",
       " (2.5161689932149254, 13),\n",
       " (1.810128500117997, 14),\n",
       " (4.561216514176771, 15),\n",
       " (3.634205736500515, 16),\n",
       " (1.9478859718973043, 17),\n",
       " (3.136266296754717, 18),\n",
       " (2.7985710212740234, 19),\n",
       " (2.2026875367853416, 20),\n",
       " (1.3244220655694336, 21),\n",
       " (5.8680519537172655, 22),\n",
       " (0.9335790917924685, 23),\n",
       " (1.6697659912009095, 24),\n",
       " (2.810438613641615, 25),\n",
       " (2.7721849712390085, 26),\n",
       " (1.402491650157118, 27),\n",
       " (3.1525111691865377, 28),\n",
       " (2.6934179757346373, 29),\n",
       " (2.1794152527076136, 30),\n",
       " (0.542702622349761, 31),\n",
       " (4.733045856849756, 32),\n",
       " (2.7091734463494315, 33),\n",
       " (3.250628143559158, 34),\n",
       " (6.528988990114102, 35),\n",
       " (1.8638826248769373, 36),\n",
       " (4.219427663605462, 37),\n",
       " (3.133906613183977, 38),\n",
       " (4.46741803853148, 39),\n",
       " (0.9237256794990012, 40),\n",
       " (2.583701615668408, 41),\n",
       " (3.718578157537762, 42),\n",
       " (3.1157508190348944, 43),\n",
       " (1.4416267017528592, 44),\n",
       " (5.062955433149979, 45),\n",
       " (5.748675380018712, 46),\n",
       " (5.235454809028883, 47),\n",
       " (1.9428217415224631, 48),\n",
       " (4.235962427681279, 49),\n",
       " (2.555048827851012, 50),\n",
       " (0.8212634053132619, 51),\n",
       " (4.39353639130024, 52),\n",
       " (4.596725189314931, 53),\n",
       " (3.5121177087117914, 54),\n",
       " (1.2510971001667803, 55),\n",
       " (2.8735290100442485, 56),\n",
       " (5.928218676864209, 57),\n",
       " (2.6413337184613246, 58),\n",
       " (6.300587235922925, 59),\n",
       " (3.3976737812754783, 60),\n",
       " (3.5077580325974016, 61),\n",
       " (3.7555815209693635, 62),\n",
       " (3.843010001004962, 63),\n",
       " (3.2086688777886234, 64),\n",
       " (4.445030349383892, 65),\n",
       " (4.192211984620618, 66),\n",
       " (0.8903935217918081, 67),\n",
       " (3.487430349339733, 68),\n",
       " (3.582033623342971, 69),\n",
       " (5.421754888968181, 70),\n",
       " (5.01003958866, 71),\n",
       " (1.0696895738723375, 72),\n",
       " (6.280365827680627, 73),\n",
       " (2.893680237519351, 74),\n",
       " (4.281622071116194, 75),\n",
       " (2.630792034052192, 76),\n",
       " (1.7770451235908213, 77),\n",
       " (4.8136306130370246, 78),\n",
       " (0.2990628160152217, 79),\n",
       " (6.367836231795151, 80),\n",
       " (1.0679540011248272, 81),\n",
       " (2.082160555897426, 82),\n",
       " (3.7677437236463165, 83),\n",
       " (2.0627206249901553, 84),\n",
       " (0.6619676814090387, 85),\n",
       " (0.4980276927702519, 86),\n",
       " (3.5173304521961866, 87),\n",
       " (3.5285777107065304, 88),\n",
       " (5.9760026561080934, 89),\n",
       " (2.173779812414252, 90),\n",
       " (4.720182804175369, 91),\n",
       " (2.355606126944004, 92),\n",
       " (3.37127579487921, 93),\n",
       " (1.6083231636841122, 94),\n",
       " (2.340610570987519, 95),\n",
       " (3.4350013215100486, 96),\n",
       " (4.834520798923339, 97),\n",
       " (3.0956530915985714, 98),\n",
       " (2.5292708262684735, 99)]"
      ]
     },
     "execution_count": 9,
     "metadata": {},
     "output_type": "execute_result"
    }
   ],
   "source": [
    "distance"
   ]
  },
  {
   "cell_type": "code",
   "execution_count": 5,
   "metadata": {},
   "outputs": [],
   "source": [
    "# pick the top 10 outliers\n",
    "indices_of_outliers = [row[1] for row in sorted(distance, key=lambda row: row[0], reverse=True)[:10]]"
   ]
  },
  {
   "cell_type": "code",
   "execution_count": 8,
   "metadata": {},
   "outputs": [
    {
     "data": {
      "image/png": "[encoded data removed]",
      "text/plain": [
       "<Figure size 720x432 with 1 Axes>"
      ]
     },
     "metadata": {
      "needs_background": "light"
     },
     "output_type": "display_data"
    }
   ],
   "source": [
    "figure(1,figsize=(10,6))\n",
    "plot([row[0] for row in data],[row[1] for row in data],'b.')\n",
    "plot(center_1[0],center_1[1], 'g*',ms=15)\n",
    "plot(center_2[0],center_2[1], 'g*',ms=15)\n",
    "plot(center_3[0],center_3[1], 'g*',ms=15)\n",
    "# mark outliers by drawing a circle on top of the already-present point:\n",
    "# plot([row[0] for row in data],[row[1] for row in data],'ro')\n",
    "for i in indices_of_outliers:\n",
    "    [x,y] = data[i]\n",
    "    plot(x,y,'ro')"
   ]
  },
  {
   "cell_type": "code",
   "execution_count": null,
   "metadata": {},
   "outputs": [],
   "source": []
  }
 ],
 "metadata": {
  "kernelspec": {
   "display_name": "Python 3",
   "language": "python",
   "name": "python3"
  },
  "language_info": {
   "codemirror_mode": {
    "name": "ipython",
    "version": 3
   },
   "file_extension": ".py",
   "mimetype": "text/x-python",
   "name": "python",
   "nbconvert_exporter": "python",
   "pygments_lexer": "ipython3",
   "version": "3.7.3"
  }
 },
 "nbformat": 4,
 "nbformat_minor": 2
}
